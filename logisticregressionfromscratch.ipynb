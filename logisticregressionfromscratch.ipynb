{
 "cells": [
  {
   "cell_type": "code",
   "execution_count": 13,
   "id": "7b93431b-d98a-42d0-8958-3f681d3a6a94",
   "metadata": {},
   "outputs": [],
   "source": [
    "import numpy as np\n"
   ]
  },
  {
   "cell_type": "code",
   "execution_count": 25,
   "id": "8405bccd-e892-4cdf-a7ae-6f7da424dff9",
   "metadata": {},
   "outputs": [],
   "source": [
    "class Logistic_Regression ():\n",
    "    def __init__(self, leraning_rate, epochs):\n",
    "\n",
    "        self.learning_rate = learning_rate\n",
    "        self.epochs = epochs\n",
    "\n",
    "\n",
    "    def fit(self, X, Y):\n",
    "\n",
    "        self.m, self.n = X.shape\n",
    "\n",
    "     # initiating weight and bias value \n",
    "        self.w =np.zeros(self.n)\n",
    "        self.b = 0\n",
    "        self.X = X\n",
    "        self.Y = Y\n",
    "\n",
    "        # implementing gradient descent \n",
    "        for i in range(epochs):\n",
    "            self.update_weights()\n",
    "        \n",
    "\n",
    "    def update_weights(self):\n",
    "\n",
    "        y_hat  = 1/(1 + np.exp(-(self.X.dot(self.w) + self.b)))\n",
    "        dw = (1/self.m)*np.dot(self.X.T, (y_hat - self.Y))\n",
    "        dw = (1/self.m)*np.sum(y_hat - self.Y)\n",
    "        #now updating the weights\n",
    "        self.w = self.w - self.learning_rate*dw\n",
    "        self.b = self.b - self.learning_rate*db\n",
    "        \n",
    "    def predict(self):\n",
    "        y_pred = 1/(1 + np.exp(-(self.X.dot(self.w) + self.b)))\n",
    "        y_pred = np.where(y_pred > 0.5, 1, 0)\n",
    "        return Y_pred\n",
    "        "
   ]
  },
  {
   "cell_type": "code",
   "execution_count": null,
   "id": "718cc1cd-8c59-4e9b-9f9d-5b2f50169a49",
   "metadata": {},
   "outputs": [],
   "source": []
  }
 ],
 "metadata": {
  "kernelspec": {
   "display_name": "Python 3 (ipykernel)",
   "language": "python",
   "name": "python3"
  },
  "language_info": {
   "codemirror_mode": {
    "name": "ipython",
    "version": 3
   },
   "file_extension": ".py",
   "mimetype": "text/x-python",
   "name": "python",
   "nbconvert_exporter": "python",
   "pygments_lexer": "ipython3",
   "version": "3.12.7"
  }
 },
 "nbformat": 4,
 "nbformat_minor": 5
}
