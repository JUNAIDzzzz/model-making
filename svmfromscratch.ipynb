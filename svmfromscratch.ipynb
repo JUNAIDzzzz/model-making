{
 "cells": [
  {
   "cell_type": "code",
   "execution_count": 77,
   "id": "a10a256b-3e2d-491f-bdf6-6e6fa40308a5",
   "metadata": {},
   "outputs": [],
   "source": [
    "import numpy as np\n",
    "class SVM_classifier():\n",
    "    def __init__(self, learning_rate, epochs, lambda_func):\n",
    "        self.learning_rate = learning_rate\n",
    "        self.epochs = epochs\n",
    "        self.lambda_func = lambda_func\n",
    "\n",
    "    def fit(self, X, Y):\n",
    "        self.m, self.n = X.shape\n",
    "        self.w = np.zeros(self.n)\n",
    "        self.b = 0\n",
    "        self.X = X\n",
    "        self.Y = Y\n",
    "\n",
    "        for i in range (self.epochs):\n",
    "            self.update_weights()\n",
    "\n",
    "    def update_weights(self) :\n",
    "\n",
    "        y_label = np.where(self.Y <= 0, -1, 1)\n",
    "        for index, x_i in enumerate(self.X) :\n",
    "\n",
    "            condition = y_label[index]*(np.dot(x_i, self.w) - self.b) >= 1\n",
    "            if (condition == True) :\n",
    "\n",
    "                dw = 2 * self.lambda_func *self.w\n",
    "                db = 0\n",
    "            else :\n",
    "                dw = 2 *self.lambda_func * self.w - np.dot(x_i, y_label[index])\n",
    "                db = y_label[index]\n",
    "        self.w = self.w - self.learning_rate * dw\n",
    "        self.b = self.b - self.learning_rate * db\n",
    "\n",
    "    def predict(self, X):\n",
    "\n",
    "        output = np.dot(X, self.w) - self.b\n",
    "        predicted_labels = np.sign(output)\n",
    "        y_hat = np.where(predicted_labels <= -1, 0, 1)\n",
    "\n",
    "        return y_hat\n",
    "\n",
    "\n",
    "\n",
    "import pandas as pd \n",
    "from sklearn.preprocessing import StandardScaler\n",
    "from sklearn.model_selection import train_test_split \n",
    "from sklearn.metrics import accuracy_score\n",
    "\n",
    "diabetes_data = pd.read_csv('diabetes.csv')\n",
    "diabetes_data.head()\n",
    "diabetes_data.isnull().sum()\n",
    "diabetes_data.shape\n",
    "diabetes_data.describe()\n",
    "diabetes_data['Outcome'].value_counts()\n",
    "features = diabetes_data.drop(columns = 'Outcome', axis = 1)\n",
    "target = diabetes_data['Outcome']\n",
    "target.head()\n",
    "scaler = StandardScaler()\n",
    "scaler.fit(features)\n",
    "standardized_data = scaler.transform(features)\n",
    "features = standardized_data\n",
    "x_train, x_test, y_train, y_test = train_test_split(features, target, test_size = 0.2, random_state = 2)\n",
    "# support vector classifier\n",
    "classifier =  SVM_classifier(learning_rate = 0.001, epochs = 1000, lambda_func = 0.01)\n",
    "classifier.fit(x_train, y_train)\n",
    "#model evluation\n",
    "x_train_prediction = classifier.predict(x_train)\n",
    "training_data_accuracy = accuracy_score(y_train, x_train_prediction)\n",
    "print(training_data_accuracy)\n",
    "x_test_prediction = classifier.predict(x_test)\n",
    "test_data_accuracy = accuracy_score(y_test, x_test_prediction)\n",
    "print(test_data_accuracy)\n",
    "#predictive system \n",
    "input_data = (0,137,40,35,168,43.1,2.288,33)\n",
    "# changing input data to numpy array \n",
    "input_data_numpy_array = np.array(input_data)\n",
    "#input data reshaped\n",
    "input_data_reshaped = input_data_numpy_array.reshape(1,-1)\n",
    "std_data = scaler.transform(input_data_reshaped)\n",
    "print(std_data)\n",
    "prediction = classifier.predict(std_data)\n",
    "print(prediction)\n",
    "if (prediction[0]== 1):\n",
    "    print(\"the person is not diabetic\")\n",
    "else:\n",
    "    print(\"the person is diabetic.\")\n",
    "        "
   ]
  },
  {
   "cell_type": "code",
   "execution_count": 95,
   "id": "16b027a4-37e9-4066-a39f-19ecf9e60c56",
   "metadata": {},
   "outputs": [
    {
     "name": "stdout",
     "output_type": "stream",
     "text": [
      "0.6677524429967426\n",
      "0.6103896103896104\n",
      "[[-1.14185152  0.5040552  -1.50468724  0.90726993  0.76583594  1.4097456\n",
      "   5.4849091  -0.0204964 ]]\n",
      "[1]\n"
     ]
    },
    {
     "name": "stderr",
     "output_type": "stream",
     "text": [
      "C:\\Users\\razia\\anaconda3\\Lib\\site-packages\\sklearn\\base.py:493: UserWarning: X does not have valid feature names, but StandardScaler was fitted with feature names\n",
      "  warnings.warn(\n"
     ]
    }
   ],
   "source": [
    "\n"
   ]
  },
  {
   "cell_type": "code",
   "execution_count": 35,
   "id": "6391fadc-db5d-4b16-b831-5925399ce27f",
   "metadata": {},
   "outputs": [
    {
     "name": "stdout",
     "output_type": "stream",
     "text": [
      "[[-1.22474487 -1.22474487]\n",
      " [ 0.          0.        ]\n",
      " [ 1.22474487  1.22474487]]\n"
     ]
    }
   ],
   "source": [
    "from sklearn.preprocessing import StandardScaler\n",
    "import numpy as np\n",
    "\n",
    "data = np.array([[1.0, 2.0],\n",
    "                 [3.0, 4.0],\n",
    "                 [5.0, 6.0]])\n",
    "\n",
    "scaler = StandardScaler()\n",
    "scaled_data = scaler.fit_transform(data)\n",
    "print(scaled_data)"
   ]
  },
  {
   "cell_type": "code",
   "execution_count": null,
   "id": "df86d092-646c-434f-966b-416be49b0249",
   "metadata": {},
   "outputs": [],
   "source": []
  }
 ],
 "metadata": {
  "kernelspec": {
   "display_name": "Python 3 (ipykernel)",
   "language": "python",
   "name": "python3"
  },
  "language_info": {
   "codemirror_mode": {
    "name": "ipython",
    "version": 3
   },
   "file_extension": ".py",
   "mimetype": "text/x-python",
   "name": "python",
   "nbconvert_exporter": "python",
   "pygments_lexer": "ipython3",
   "version": "3.12.7"
  }
 },
 "nbformat": 4,
 "nbformat_minor": 5
}
